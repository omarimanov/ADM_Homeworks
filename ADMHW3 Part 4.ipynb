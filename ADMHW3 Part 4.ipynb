{
 "cells": [
  {
   "cell_type": "code",
   "execution_count": 4,
   "metadata": {},
   "outputs": [
    {
     "name": "stdout",
     "output_type": "stream",
     "text": [
      "Type a word:DATAMININGSAPIENZA\n",
      "The length of the longest palindromic subsequence is 7\n"
     ]
    }
   ],
   "source": [
    "# Returns the length of the longest palindromic subsequence in a given string  \n",
    "def long_pal_subseq(seq, i, j): \n",
    "      \n",
    "    # If there is only 1 character  \n",
    "    if (i == j): \n",
    "        return 1\n",
    "  \n",
    "    # If there are only 2 characters and both are same  \n",
    "    if (seq[i] == seq[j] and i + 1 == j): \n",
    "        return 2\n",
    "      \n",
    "    # If the first and last characters match  \n",
    "    if (seq[i] == seq[j]): \n",
    "        return long_pal_subseq(seq, i + 1, j - 1) + 2\n",
    "  \n",
    "    # If the first and last characters do not match  \n",
    "    return max(long_pal_subseq(seq, i, j - 1),  \n",
    "               long_pal_subseq(seq, i + 1, j)) \n",
    "\n",
    "if __name__ == '__main__': \n",
    "    seq = input(\"Type a word:\").lower()\n",
    "    n = len(seq) \n",
    "    print(\"The length of the longest palindromic subsequence is\",  \n",
    "                  long_pal_subseq(seq, 0, n - 1)) "
   ]
  },
  {
   "cell_type": "code",
   "execution_count": null,
   "metadata": {},
   "outputs": [],
   "source": []
  }
 ],
 "metadata": {
  "kernelspec": {
   "display_name": "Python 3",
   "language": "python",
   "name": "python3"
  },
  "language_info": {
   "codemirror_mode": {
    "name": "ipython",
    "version": 3
   },
   "file_extension": ".py",
   "mimetype": "text/x-python",
   "name": "python",
   "nbconvert_exporter": "python",
   "pygments_lexer": "ipython3",
   "version": "3.7.1"
  }
 },
 "nbformat": 4,
 "nbformat_minor": 2
}
